{
 "cells": [
  {
   "cell_type": "code",
   "execution_count": 20,
   "id": "cee61440",
   "metadata": {},
   "outputs": [],
   "source": [
    "import asyncio\n",
    "from kucoin.asyncio import KucoinSocketManager\n",
    "from kucoin.client import Client"
   ]
  },
  {
   "cell_type": "code",
   "execution_count": 21,
   "id": "d2c913e8",
   "metadata": {},
   "outputs": [],
   "source": [
    "\n",
    "#from kucoin.client import WsToken\n",
    "#from kucoin.ws_client import KucoinWsClient\n"
   ]
  },
  {
   "cell_type": "code",
   "execution_count": 22,
   "id": "30496eca",
   "metadata": {},
   "outputs": [],
   "source": [
    "#import env variables\n",
    "import os\n",
    "from dotenv import load_dotenv\n",
    "\n",
    "load_dotenv()\n",
    "\n",
    "api_key = os.getenv('KEY')\n",
    "api_secret = os.getenv('SECRET')\n",
    "api_passphrase = os.getenv('PASS')\n",
    "\n"
   ]
  },
  {
   "cell_type": "code",
   "execution_count": 23,
   "id": "6a118250",
   "metadata": {},
   "outputs": [],
   "source": [
    "\n",
    "async def main():\n",
    "    ##need to declare global so we can access, cause it was privately declared\n",
    "    global loop\n",
    "    \n",
    "    ##call back will be called by socket\n",
    "    # callback function that receives messages from the socket\n",
    "    async def handle_evt(msg):\n",
    "        if msg['topic'] == '/market/ticker:ETH-USDT':\n",
    "            ##f used to format\n",
    "            print(f'got ETH-USDT tick:{msg[\"data\"]}')\n",
    "\n",
    "        elif msg['topic'] == '/market/snapshot:BTC':\n",
    "            print(f'got BTC market snapshot:{msg[\"data\"]}')\n",
    "\n",
    "\n",
    "    client = Client(api_key, api_secret, api_passphrase)\n",
    "\n",
    "    \n",
    "    #function starts here by create websocket connection, with loop going until main is done, callback being\n",
    "    #hadnle event, and client being our token\n",
    "    #handle event will be the function that handles each websocket signal that comes in\n",
    "    ksm = await KucoinSocketManager.create(loop, client, handle_evt)\n",
    "\n",
    "\n",
    "    # Note: try these one at a time, if all are on you will see a lot of output\n",
    "\n",
    "    ##once we are connected we can subscribe to the channel we want\n",
    "    # ETH-USDT Market Ticker\n",
    "    #subcribe allows us to gather the response genereated from this request and send it to our call back function\n",
    "    #the amount of time subscribe collects info depends on the loop for our socketmanager\n",
    "    await ksm.subscribe('/market/ticker:ETH-USDT')\n",
    "    # BTC Symbol Snapshots\n",
    "    #await ksm.subscribe('/market/snapshot:BTC')\n",
    "\n",
    "\n",
    "\n",
    "    while True:\n",
    "        print(\"sleeping to keep loop open\")\n",
    "        await asyncio.sleep(20, loop=loop)\n",
    "\n",
    "        \n",
    "\n"
   ]
  },
  {
   "cell_type": "code",
   "execution_count": 24,
   "id": "e69a4a45",
   "metadata": {},
   "outputs": [
    {
     "ename": "RuntimeError",
     "evalue": "This event loop is already running",
     "output_type": "error",
     "traceback": [
      "\u001b[0;31m---------------------------------------------------------------------------\u001b[0m",
      "\u001b[0;31mRuntimeError\u001b[0m                              Traceback (most recent call last)",
      "\u001b[0;32m/var/folders/md/tmrt3hc16r569d6j7ppknkj00000gn/T/ipykernel_6773/3077925898.py\u001b[0m in \u001b[0;36m<module>\u001b[0;34m\u001b[0m\n\u001b[1;32m      8\u001b[0m     \u001b[0mloop\u001b[0m \u001b[0;34m=\u001b[0m \u001b[0masyncio\u001b[0m\u001b[0;34m.\u001b[0m\u001b[0mget_event_loop\u001b[0m\u001b[0;34m(\u001b[0m\u001b[0;34m)\u001b[0m\u001b[0;34m\u001b[0m\u001b[0;34m\u001b[0m\u001b[0m\n\u001b[1;32m      9\u001b[0m     \u001b[0;31m##rununtil main async is complete\u001b[0m\u001b[0;34m\u001b[0m\u001b[0;34m\u001b[0m\u001b[0m\n\u001b[0;32m---> 10\u001b[0;31m     \u001b[0mloop\u001b[0m\u001b[0;34m.\u001b[0m\u001b[0mrun_until_complete\u001b[0m\u001b[0;34m(\u001b[0m\u001b[0mmain\u001b[0m\u001b[0;34m(\u001b[0m\u001b[0;34m)\u001b[0m\u001b[0;34m)\u001b[0m\u001b[0;34m\u001b[0m\u001b[0;34m\u001b[0m\u001b[0m\n\u001b[0m\u001b[1;32m     11\u001b[0m \u001b[0;34m\u001b[0m\u001b[0m\n\u001b[1;32m     12\u001b[0m \u001b[0;34m\u001b[0m\u001b[0m\n",
      "\u001b[0;32m~/opt/anaconda3/lib/python3.9/asyncio/base_events.py\u001b[0m in \u001b[0;36mrun_until_complete\u001b[0;34m(self, future)\u001b[0m\n\u001b[1;32m    616\u001b[0m         \"\"\"\n\u001b[1;32m    617\u001b[0m         \u001b[0mself\u001b[0m\u001b[0;34m.\u001b[0m\u001b[0m_check_closed\u001b[0m\u001b[0;34m(\u001b[0m\u001b[0;34m)\u001b[0m\u001b[0;34m\u001b[0m\u001b[0;34m\u001b[0m\u001b[0m\n\u001b[0;32m--> 618\u001b[0;31m         \u001b[0mself\u001b[0m\u001b[0;34m.\u001b[0m\u001b[0m_check_running\u001b[0m\u001b[0;34m(\u001b[0m\u001b[0;34m)\u001b[0m\u001b[0;34m\u001b[0m\u001b[0;34m\u001b[0m\u001b[0m\n\u001b[0m\u001b[1;32m    619\u001b[0m \u001b[0;34m\u001b[0m\u001b[0m\n\u001b[1;32m    620\u001b[0m         \u001b[0mnew_task\u001b[0m \u001b[0;34m=\u001b[0m \u001b[0;32mnot\u001b[0m \u001b[0mfutures\u001b[0m\u001b[0;34m.\u001b[0m\u001b[0misfuture\u001b[0m\u001b[0;34m(\u001b[0m\u001b[0mfuture\u001b[0m\u001b[0;34m)\u001b[0m\u001b[0;34m\u001b[0m\u001b[0;34m\u001b[0m\u001b[0m\n",
      "\u001b[0;32m~/opt/anaconda3/lib/python3.9/asyncio/base_events.py\u001b[0m in \u001b[0;36m_check_running\u001b[0;34m(self)\u001b[0m\n\u001b[1;32m    576\u001b[0m     \u001b[0;32mdef\u001b[0m \u001b[0m_check_running\u001b[0m\u001b[0;34m(\u001b[0m\u001b[0mself\u001b[0m\u001b[0;34m)\u001b[0m\u001b[0;34m:\u001b[0m\u001b[0;34m\u001b[0m\u001b[0;34m\u001b[0m\u001b[0m\n\u001b[1;32m    577\u001b[0m         \u001b[0;32mif\u001b[0m \u001b[0mself\u001b[0m\u001b[0;34m.\u001b[0m\u001b[0mis_running\u001b[0m\u001b[0;34m(\u001b[0m\u001b[0;34m)\u001b[0m\u001b[0;34m:\u001b[0m\u001b[0;34m\u001b[0m\u001b[0;34m\u001b[0m\u001b[0m\n\u001b[0;32m--> 578\u001b[0;31m             \u001b[0;32mraise\u001b[0m \u001b[0mRuntimeError\u001b[0m\u001b[0;34m(\u001b[0m\u001b[0;34m'This event loop is already running'\u001b[0m\u001b[0;34m)\u001b[0m\u001b[0;34m\u001b[0m\u001b[0;34m\u001b[0m\u001b[0m\n\u001b[0m\u001b[1;32m    579\u001b[0m         \u001b[0;32mif\u001b[0m \u001b[0mevents\u001b[0m\u001b[0;34m.\u001b[0m\u001b[0m_get_running_loop\u001b[0m\u001b[0;34m(\u001b[0m\u001b[0;34m)\u001b[0m \u001b[0;32mis\u001b[0m \u001b[0;32mnot\u001b[0m \u001b[0;32mNone\u001b[0m\u001b[0;34m:\u001b[0m\u001b[0;34m\u001b[0m\u001b[0;34m\u001b[0m\u001b[0m\n\u001b[1;32m    580\u001b[0m             raise RuntimeError(\n",
      "\u001b[0;31mRuntimeError\u001b[0m: This event loop is already running"
     ]
    }
   ],
   "source": [
    "#TODO Figure out where error is coming from for this event loop is already running\n",
    "#TODO fully understand what loop is doing and how longs its gonna run for\n",
    "#TODO take msg data and create df and place that in db\n",
    "#TODO Modularize code\n",
    "##figue out this magic function\n",
    "if __name__ == \"__main__\":\n",
    "    ##event loop holds all asyncio threads to be executed\n",
    "    loop = asyncio.get_event_loop()\n",
    "    ##rununtil main async is complete\n",
    "    loop.run_until_complete(main())\n",
    "    \n",
    "    \n",
    "\n"
   ]
  },
  {
   "cell_type": "code",
   "execution_count": null,
   "id": "ff815ba9",
   "metadata": {},
   "outputs": [],
   "source": []
  }
 ],
 "metadata": {
  "kernelspec": {
   "display_name": "Python 3 (ipykernel)",
   "language": "python",
   "name": "python3"
  },
  "language_info": {
   "codemirror_mode": {
    "name": "ipython",
    "version": 3
   },
   "file_extension": ".py",
   "mimetype": "text/x-python",
   "name": "python",
   "nbconvert_exporter": "python",
   "pygments_lexer": "ipython3",
   "version": "3.9.7"
  }
 },
 "nbformat": 4,
 "nbformat_minor": 5
}
